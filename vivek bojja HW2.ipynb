{
  "cells": [
    {
      "cell_type": "code",
      "execution_count": 4,
      "metadata": {
        "id": "LUseSw8yOf3k"
      },
      "outputs": [],
      "source": [
        "import os\n",
        "import requests\n",
        "import matplotlib.ticker as tick\n",
        "import io\n",
        "import numpy as nump\n",
        "import zipfile as zf\n",
        "import shutil\n",
        "import matplotlib.pyplot as plypt\n",
        "import pandas as pd\n",
        "import warnings\n",
        "import seaborn as sns\n",
        "warnings.filterwarnings(\"ignore\")\n",
        "from sklearn.preprocessing import StandardScaler\n",
        "import scipy.stats as st\n",
        "from scipy.cluster.hierarchy import dendrogram\n",
        "from sklearn.cluster import KMeans\n",
        "from sklearn.cluster import AgglomerativeClustering\n"
      ]
    },
    {
      "cell_type": "code",
      "execution_count": 5,
      "metadata": {
        "colab": {
          "base_uri": "https://localhost:8080/",
          "height": 346
        },
        "id": "GLqYPwCKOf3m",
        "outputId": "eebf8d8f-7293-44c0-bd13-df904911582d"
      },
      "outputs": [
        {
          "output_type": "error",
          "ename": "FileNotFoundError",
          "evalue": "ignored",
          "traceback": [
            "\u001b[0;31m---------------------------------------------------------------------------\u001b[0m",
            "\u001b[0;31mFileNotFoundError\u001b[0m                         Traceback (most recent call last)",
            "\u001b[0;32m<ipython-input-5-1cad7944ef53>\u001b[0m in \u001b[0;36m<module>\u001b[0;34m\u001b[0m\n\u001b[1;32m     14\u001b[0m     \u001b[0mapath\u001b[0m \u001b[0;34m=\u001b[0m \u001b[0mos\u001b[0m\u001b[0;34m.\u001b[0m\u001b[0mpath\u001b[0m\u001b[0;34m.\u001b[0m\u001b[0mjoin\u001b[0m\u001b[0;34m(\u001b[0m\u001b[0mcurr_dir\u001b[0m\u001b[0;34m,\u001b[0m\u001b[0;34m'data'\u001b[0m\u001b[0;34m,\u001b[0m\u001b[0mstr\u001b[0m\u001b[0;34m(\u001b[0m\u001b[0myear\u001b[0m\u001b[0;34m)\u001b[0m\u001b[0;34m,\u001b[0m\u001b[0;34m'ACCIDENT.csv'\u001b[0m\u001b[0;34m)\u001b[0m\u001b[0;34m\u001b[0m\u001b[0;34m\u001b[0m\u001b[0m\n\u001b[1;32m     15\u001b[0m     \u001b[0mmpath\u001b[0m \u001b[0;34m=\u001b[0m \u001b[0mos\u001b[0m\u001b[0;34m.\u001b[0m\u001b[0mpath\u001b[0m\u001b[0;34m.\u001b[0m\u001b[0mjoin\u001b[0m\u001b[0;34m(\u001b[0m\u001b[0mcurr_dir\u001b[0m\u001b[0;34m,\u001b[0m\u001b[0;34m'accident_all_years'\u001b[0m\u001b[0;34m,\u001b[0m\u001b[0mstr\u001b[0m\u001b[0;34m(\u001b[0m\u001b[0myear\u001b[0m\u001b[0;34m)\u001b[0m\u001b[0;34m+\u001b[0m\u001b[0;34m'_accident.csv'\u001b[0m\u001b[0;34m)\u001b[0m\u001b[0;34m\u001b[0m\u001b[0;34m\u001b[0m\u001b[0m\n\u001b[0;32m---> 16\u001b[0;31m     \u001b[0mshutil\u001b[0m\u001b[0;34m.\u001b[0m\u001b[0mcopy\u001b[0m\u001b[0;34m(\u001b[0m\u001b[0mapath\u001b[0m\u001b[0;34m,\u001b[0m \u001b[0mmpath\u001b[0m\u001b[0;34m)\u001b[0m\u001b[0;34m\u001b[0m\u001b[0;34m\u001b[0m\u001b[0m\n\u001b[0m",
            "\u001b[0;32m/usr/lib/python3.7/shutil.py\u001b[0m in \u001b[0;36mcopy\u001b[0;34m(src, dst, follow_symlinks)\u001b[0m\n\u001b[1;32m    246\u001b[0m     \u001b[0;32mif\u001b[0m \u001b[0mos\u001b[0m\u001b[0;34m.\u001b[0m\u001b[0mpath\u001b[0m\u001b[0;34m.\u001b[0m\u001b[0misdir\u001b[0m\u001b[0;34m(\u001b[0m\u001b[0mdst\u001b[0m\u001b[0;34m)\u001b[0m\u001b[0;34m:\u001b[0m\u001b[0;34m\u001b[0m\u001b[0;34m\u001b[0m\u001b[0m\n\u001b[1;32m    247\u001b[0m         \u001b[0mdst\u001b[0m \u001b[0;34m=\u001b[0m \u001b[0mos\u001b[0m\u001b[0;34m.\u001b[0m\u001b[0mpath\u001b[0m\u001b[0;34m.\u001b[0m\u001b[0mjoin\u001b[0m\u001b[0;34m(\u001b[0m\u001b[0mdst\u001b[0m\u001b[0;34m,\u001b[0m \u001b[0mos\u001b[0m\u001b[0;34m.\u001b[0m\u001b[0mpath\u001b[0m\u001b[0;34m.\u001b[0m\u001b[0mbasename\u001b[0m\u001b[0;34m(\u001b[0m\u001b[0msrc\u001b[0m\u001b[0;34m)\u001b[0m\u001b[0;34m)\u001b[0m\u001b[0;34m\u001b[0m\u001b[0;34m\u001b[0m\u001b[0m\n\u001b[0;32m--> 248\u001b[0;31m     \u001b[0mcopyfile\u001b[0m\u001b[0;34m(\u001b[0m\u001b[0msrc\u001b[0m\u001b[0;34m,\u001b[0m \u001b[0mdst\u001b[0m\u001b[0;34m,\u001b[0m \u001b[0mfollow_symlinks\u001b[0m\u001b[0;34m=\u001b[0m\u001b[0mfollow_symlinks\u001b[0m\u001b[0;34m)\u001b[0m\u001b[0;34m\u001b[0m\u001b[0;34m\u001b[0m\u001b[0m\n\u001b[0m\u001b[1;32m    249\u001b[0m     \u001b[0mcopymode\u001b[0m\u001b[0;34m(\u001b[0m\u001b[0msrc\u001b[0m\u001b[0;34m,\u001b[0m \u001b[0mdst\u001b[0m\u001b[0;34m,\u001b[0m \u001b[0mfollow_symlinks\u001b[0m\u001b[0;34m=\u001b[0m\u001b[0mfollow_symlinks\u001b[0m\u001b[0;34m)\u001b[0m\u001b[0;34m\u001b[0m\u001b[0;34m\u001b[0m\u001b[0m\n\u001b[1;32m    250\u001b[0m     \u001b[0;32mreturn\u001b[0m \u001b[0mdst\u001b[0m\u001b[0;34m\u001b[0m\u001b[0;34m\u001b[0m\u001b[0m\n",
            "\u001b[0;32m/usr/lib/python3.7/shutil.py\u001b[0m in \u001b[0;36mcopyfile\u001b[0;34m(src, dst, follow_symlinks)\u001b[0m\n\u001b[1;32m    118\u001b[0m         \u001b[0mos\u001b[0m\u001b[0;34m.\u001b[0m\u001b[0msymlink\u001b[0m\u001b[0;34m(\u001b[0m\u001b[0mos\u001b[0m\u001b[0;34m.\u001b[0m\u001b[0mreadlink\u001b[0m\u001b[0;34m(\u001b[0m\u001b[0msrc\u001b[0m\u001b[0;34m)\u001b[0m\u001b[0;34m,\u001b[0m \u001b[0mdst\u001b[0m\u001b[0;34m)\u001b[0m\u001b[0;34m\u001b[0m\u001b[0;34m\u001b[0m\u001b[0m\n\u001b[1;32m    119\u001b[0m     \u001b[0;32melse\u001b[0m\u001b[0;34m:\u001b[0m\u001b[0;34m\u001b[0m\u001b[0;34m\u001b[0m\u001b[0m\n\u001b[0;32m--> 120\u001b[0;31m         \u001b[0;32mwith\u001b[0m \u001b[0mopen\u001b[0m\u001b[0;34m(\u001b[0m\u001b[0msrc\u001b[0m\u001b[0;34m,\u001b[0m \u001b[0;34m'rb'\u001b[0m\u001b[0;34m)\u001b[0m \u001b[0;32mas\u001b[0m \u001b[0mfsrc\u001b[0m\u001b[0;34m:\u001b[0m\u001b[0;34m\u001b[0m\u001b[0;34m\u001b[0m\u001b[0m\n\u001b[0m\u001b[1;32m    121\u001b[0m             \u001b[0;32mwith\u001b[0m \u001b[0mopen\u001b[0m\u001b[0;34m(\u001b[0m\u001b[0mdst\u001b[0m\u001b[0;34m,\u001b[0m \u001b[0;34m'wb'\u001b[0m\u001b[0;34m)\u001b[0m \u001b[0;32mas\u001b[0m \u001b[0mfdst\u001b[0m\u001b[0;34m:\u001b[0m\u001b[0;34m\u001b[0m\u001b[0;34m\u001b[0m\u001b[0m\n\u001b[1;32m    122\u001b[0m                 \u001b[0mcopyfileobj\u001b[0m\u001b[0;34m(\u001b[0m\u001b[0mfsrc\u001b[0m\u001b[0;34m,\u001b[0m \u001b[0mfdst\u001b[0m\u001b[0;34m)\u001b[0m\u001b[0;34m\u001b[0m\u001b[0;34m\u001b[0m\u001b[0m\n",
            "\u001b[0;31mFileNotFoundError\u001b[0m: [Errno 2] No such file or directory: '/content/data/2000/ACCIDENT.csv'"
          ]
        }
      ],
      "source": [
        "curr_dir = os.getcwd()\n",
        "for year in range(2000, 2010, 1):\n",
        "    res = requests.get('https://static.nhtsa.gov/nhtsa/downloads/FARS/{0}/National/FARS{0}NationalCSV.zip'.format(year))\n",
        "    zip = zf.ZipFile(io.BytesIO(res.content))\n",
        "    path = os.path.join(curr_dir,'data',str(year))\n",
        "    zip.extractall(path)\n",
        "\n",
        "\n",
        "dir = \"accident_all_years\"\n",
        "path = os.path.join(curr_dir, dir)\n",
        "os.mkdir(path)\n",
        "\n",
        "for year in range(2000, 2010, 1):\n",
        "    apath = os.path.join(curr_dir,'data',str(year),'ACCIDENT.csv')\n",
        "    mpath = os.path.join(curr_dir,'accident_all_years',str(year)+'_accident.csv')\n",
        "    shutil.copy(apath, mpath)"
      ]
    },
    {
      "cell_type": "markdown",
      "metadata": {
        "id": "Dvt2SPjwOf3n"
      },
      "source": [
        "Recreate data analysis in a published paper.\n",
        "\n",
        "Task: Recreate the graph (with actual FARS data) in Figure 15."
      ]
    },
    {
      "cell_type": "code",
      "execution_count": null,
      "metadata": {
        "id": "oZsD30aKOf3o"
      },
      "outputs": [],
      "source": [
        "# path=('accident_all_years/2004_accident.csv')\n",
        "df = pd.DataFrame()\n",
        "\n",
        "for year in range(2004,2010,1):\n",
        "    apath = 'accident_all_years/{0}_accident.csv'.format(year)\n",
        "    df1 = pd.read_csv(apath,encoding='latin-1')\n",
        "    df = pd.concat([df, df1], axis=0)\n",
        "\n",
        "df = df.reset_index(drop = True)\n",
        "\n",
        "# pedestrians\n",
        "df_ped = df[df['HARM_EV'] == 8]\n",
        "\n",
        "kansas = df_ped[df_ped['STATE'] == 20]"
      ]
    },
    {
      "cell_type": "code",
      "execution_count": 6,
      "metadata": {
        "colab": {
          "base_uri": "https://localhost:8080/",
          "height": 235
        },
        "id": "GJf-uhOgOf3o",
        "outputId": "86766d71-2048-4dbe-92e8-fad004fb0645"
      },
      "outputs": [
        {
          "output_type": "error",
          "ename": "NameError",
          "evalue": "ignored",
          "traceback": [
            "\u001b[0;31m---------------------------------------------------------------------------\u001b[0m",
            "\u001b[0;31mNameError\u001b[0m                                 Traceback (most recent call last)",
            "\u001b[0;32m<ipython-input-6-1d0d005338f5>\u001b[0m in \u001b[0;36m<module>\u001b[0;34m\u001b[0m\n\u001b[1;32m      1\u001b[0m \u001b[0;31m# US Speed Limit to Fatal Pedestrian Crashes\u001b[0m\u001b[0;34m\u001b[0m\u001b[0;34m\u001b[0m\u001b[0;34m\u001b[0m\u001b[0m\n\u001b[0;32m----> 2\u001b[0;31m \u001b[0musa_spd_limit\u001b[0m \u001b[0;34m=\u001b[0m \u001b[0mdf_ped\u001b[0m\u001b[0;34m[\u001b[0m\u001b[0;34m[\u001b[0m\u001b[0;34m'SP_LIMIT'\u001b[0m\u001b[0;34m,\u001b[0m \u001b[0;34m'FATALS'\u001b[0m\u001b[0;34m]\u001b[0m\u001b[0;34m]\u001b[0m\u001b[0;34m\u001b[0m\u001b[0;34m\u001b[0m\u001b[0m\n\u001b[0m\u001b[1;32m      3\u001b[0m \u001b[0;34m\u001b[0m\u001b[0m\n\u001b[1;32m      4\u001b[0m \u001b[0mspeed_us\u001b[0m \u001b[0;34m=\u001b[0m \u001b[0musa_spd_limit\u001b[0m\u001b[0;34m.\u001b[0m\u001b[0mgroupby\u001b[0m\u001b[0;34m(\u001b[0m\u001b[0;34m'SP_LIMIT'\u001b[0m\u001b[0;34m)\u001b[0m\u001b[0;34m[\u001b[0m\u001b[0;34m'FATALS'\u001b[0m\u001b[0;34m]\u001b[0m\u001b[0;34m.\u001b[0m\u001b[0msum\u001b[0m\u001b[0;34m(\u001b[0m\u001b[0;34m)\u001b[0m\u001b[0;34m\u001b[0m\u001b[0;34m\u001b[0m\u001b[0m\n\u001b[1;32m      5\u001b[0m us_speed_dict = {'30 mph or less': 0,\n",
            "\u001b[0;31mNameError\u001b[0m: name 'df_ped' is not defined"
          ]
        }
      ],
      "source": [
        "# US Speed Limit to Fatal Pedestrian Crashes \n",
        "us_spd_limit = df_ped[['SP_LIMIT', 'FATALS']]\n",
        "\n",
        "speed_us = us_spd_limit.groupby('SP_LIMIT')['FATALS'].sum()\n",
        "us_speed_dict = {'30 mph or less': 0,\n",
        "                '30 or 40 mph' : 0,\n",
        "                '45 or 50 mph' : 0,\n",
        "                '55 mph' : 0,\n",
        "                '60 mph or higher': 0   }\n",
        "fatal_crashes_us = 0\n",
        "for index in speed_us.index:\n",
        "    if int(index) in range(0, 31):\n",
        "        us_speed_dict['30 mph or less'] += speed_us[index]\n",
        "    elif int(index) in range(31, 41):\n",
        "        us_speed_dict['30 or 40 mph'] += speed_us[index]\n",
        "    elif int(index) in range(41, 51):\n",
        "        us_speed_dict['45 or 50 mph'] += speed_us[index]\n",
        "    elif int(index) in range(51, 60):\n",
        "        us_speed_dict['55 mph'] += speed_us[index]\n",
        "    else:\n",
        "        us_speed_dict['60 mph or higher'] += speed_us[index]\n",
        "    fatal_crashes_us += speed_us[index]\n",
        "\n",
        "speedpcnt_us = {k:(us_speed_dict[k]/fatal_crashes_us)*100 for k in us_speed_dict}"
      ]
    },
    {
      "cell_type": "code",
      "execution_count": null,
      "metadata": {
        "id": "htA9ASA5Of3p"
      },
      "outputs": [],
      "source": [
        "# Kansas Speed Limit to Fatal Pedestrian Crashes \n",
        "kansas_speed_limit = kansas[['SP_LIMIT', 'FATALS']]\n",
        "\n",
        "speed_kansas = kansas_speed_limit.groupby('SP_LIMIT')['FATALS'].sum()\n",
        "kansas_speed_dict = {'30 mph or less': 0,\n",
        "                    '30 or 40 mph' : 0,\n",
        "                    '45 or 50 mph' : 0,\n",
        "                    '55 mph' : 0,\n",
        "                    '60 mph or higher': 0}\n",
        "fatal_crashes_kansas = 0\n",
        "for index in speed_kansas.index:\n",
        "    if int(index) in range(0, 31):\n",
        "        kansas_speed_dict['30 mph or less'] += speed_kansas[index]\n",
        "    elif int(index) in range(31, 41):\n",
        "        kansas_speed_dict['30 or 40 mph'] += speed_kansas[index]\n",
        "    elif int(index) in range(41, 51):\n",
        "        kansas_speed_dict['45 or 50 mph'] += speed_kansas[index]\n",
        "    elif int(index) in range(51, 60):\n",
        "        kansas_speed_dict['55 mph'] += speed_kansas[index]\n",
        "    else:\n",
        "        kansas_speed_dict['60 mph or higher'] += speed_kansas[index]\n",
        "    fatal_crashes_kansas += speed_kansas[index]\n",
        "\n",
        "speedpcnt_kansas = {k:(kansas_speed_dict[k]/fatal_crashes_kansas)*100 for k in kansas_speed_dict}"
      ]
    },
    {
      "cell_type": "code",
      "execution_count": 3,
      "metadata": {
        "colab": {
          "base_uri": "https://localhost:8080/",
          "height": 433
        },
        "id": "R7OJjok0Of3q",
        "outputId": "a3e58215-be1c-4f52-f89f-d74645dcb355"
      },
      "outputs": [
        {
          "output_type": "error",
          "ename": "NameError",
          "evalue": "ignored",
          "traceback": [
            "\u001b[0;31m---------------------------------------------------------------------------\u001b[0m",
            "\u001b[0;31mNameError\u001b[0m                                 Traceback (most recent call last)",
            "\u001b[0;32m<ipython-input-3-fe5712fa610a>\u001b[0m in \u001b[0;36m<module>\u001b[0;34m\u001b[0m\n\u001b[1;32m      1\u001b[0m \u001b[0mfig\u001b[0m\u001b[0;34m,\u001b[0m \u001b[0max\u001b[0m \u001b[0;34m=\u001b[0m \u001b[0mplypt\u001b[0m\u001b[0;34m.\u001b[0m\u001b[0msubplots\u001b[0m\u001b[0;34m(\u001b[0m\u001b[0mfigsize\u001b[0m \u001b[0;34m=\u001b[0m \u001b[0;34m(\u001b[0m\u001b[0;36m8\u001b[0m\u001b[0;34m,\u001b[0m \u001b[0;36m3\u001b[0m\u001b[0;34m)\u001b[0m\u001b[0;34m)\u001b[0m\u001b[0;34m\u001b[0m\u001b[0;34m\u001b[0m\u001b[0m\n\u001b[0;32m----> 2\u001b[0;31m \u001b[0mx_axis\u001b[0m \u001b[0;34m=\u001b[0m \u001b[0mlist\u001b[0m\u001b[0;34m(\u001b[0m\u001b[0mus_speed_dict\u001b[0m\u001b[0;34m.\u001b[0m\u001b[0mkeys\u001b[0m\u001b[0;34m(\u001b[0m\u001b[0;34m)\u001b[0m\u001b[0;34m)\u001b[0m \u001b[0;31m# X axis labels\u001b[0m\u001b[0;34m\u001b[0m\u001b[0;34m\u001b[0m\u001b[0m\n\u001b[0m\u001b[1;32m      3\u001b[0m \u001b[0mx\u001b[0m \u001b[0;34m=\u001b[0m \u001b[0mnump\u001b[0m\u001b[0;34m.\u001b[0m\u001b[0marange\u001b[0m\u001b[0;34m(\u001b[0m\u001b[0mlen\u001b[0m\u001b[0;34m(\u001b[0m\u001b[0mx_axis\u001b[0m\u001b[0;34m)\u001b[0m\u001b[0;34m)\u001b[0m\u001b[0;34m\u001b[0m\u001b[0;34m\u001b[0m\u001b[0m\n\u001b[1;32m      4\u001b[0m \u001b[0my1\u001b[0m\u001b[0;34m,\u001b[0m \u001b[0my2\u001b[0m \u001b[0;34m=\u001b[0m \u001b[0mlist\u001b[0m\u001b[0;34m(\u001b[0m\u001b[0mspeedpcnt_us\u001b[0m\u001b[0;34m.\u001b[0m\u001b[0mvalues\u001b[0m\u001b[0;34m(\u001b[0m\u001b[0;34m)\u001b[0m\u001b[0;34m)\u001b[0m\u001b[0;34m,\u001b[0m \u001b[0mlist\u001b[0m\u001b[0;34m(\u001b[0m\u001b[0mspeedpcnt_kansas\u001b[0m\u001b[0;34m.\u001b[0m\u001b[0mvalues\u001b[0m\u001b[0;34m(\u001b[0m\u001b[0;34m)\u001b[0m\u001b[0;34m)\u001b[0m\u001b[0;34m\u001b[0m\u001b[0;34m\u001b[0m\u001b[0m\n\u001b[1;32m      5\u001b[0m \u001b[0max\u001b[0m\u001b[0;34m.\u001b[0m\u001b[0mbar\u001b[0m\u001b[0;34m(\u001b[0m\u001b[0mx\u001b[0m\u001b[0;34m-\u001b[0m\u001b[0;36m0.2\u001b[0m\u001b[0;34m,\u001b[0m \u001b[0my2\u001b[0m\u001b[0;34m,\u001b[0m \u001b[0;36m0.4\u001b[0m\u001b[0;34m,\u001b[0m \u001b[0mlabel\u001b[0m \u001b[0;34m=\u001b[0m \u001b[0;34m'Kansas'\u001b[0m\u001b[0;34m,\u001b[0m \u001b[0mcolor\u001b[0m\u001b[0;34m=\u001b[0m\u001b[0;34m'blue'\u001b[0m\u001b[0;34m)\u001b[0m\u001b[0;34m\u001b[0m\u001b[0;34m\u001b[0m\u001b[0m\n",
            "\u001b[0;31mNameError\u001b[0m: name 'us_speed_dict' is not defined"
          ]
        },
        {
          "output_type": "display_data",
          "data": {
            "text/plain": [
              "<Figure size 576x216 with 1 Axes>"
            ],
            "image/png": "[encoded data removed]"
          },
          "metadata": {
            "needs_background": "light"
          }
        }
      ],
      "source": [
        "fig, ax = plypt.subplots(figsize = (8, 3))\n",
        "x_axis = list(us_speed_dict.keys()) # X axis labels\n",
        "x = nump.arange(len(x_axis))\n",
        "y1, y2 = list(speedpcnt_us.values()), list(speedpcnt_kansas.values())\n",
        "ax.bar(x-0.2, y2, 0.4, label = 'Kansas', color='blue')\n",
        "ax.bar(x+0.2, y1, 0.4, label = 'USA', color='red')\n",
        "ax.yaxis.set_major_formatter(tick.PercentFormatter())\n",
        "ax.legend(loc='center left', bbox_to_anchor=(1,0.5))\n",
        "plypt.xlabel(\"Speed\"), plypt.ylabel(\"Percentage of fatal crashes\")\n",
        "plypt.title(\"Fatal pedestrian crashes based on speed limit\")\n",
        "plypt.xticks(x, x_axis)\n",
        "plypt.show()"
      ]
    },
    {
      "cell_type": "markdown",
      "metadata": {
        "id": "eIE_3kDROf3r"
      },
      "source": [
        "Task: Recreate Figure 4 and Figure 9."
      ]
    },
    {
      "cell_type": "code",
      "execution_count": null,
      "metadata": {
        "id": "ZmvBYpNzOf3r"
      },
      "outputs": [],
      "source": [
        "# copy person.csv to person_all_years\n",
        "dir = \"person_all_years\"\n",
        "path = os.path.join(curr_dir, dir)\n",
        "os.mkdir(path)\n",
        "\n",
        "for year in range(2000, 2010, 1):\n",
        "    person_path = os.path.join(curr_dir,'data',str(year),'PERSON.csv')\n",
        "    mpath = os.path.join(curr_dir,'person_all_years',str(year)+'_person.csv')\n",
        "    shutil.copy(person_path, mpath)"
      ]
    },
    {
      "cell_type": "code",
      "execution_count": null,
      "metadata": {
        "id": "-kdm_jbVOf3s"
      },
      "outputs": [],
      "source": [
        "df_person = pd.DataFrame()\n",
        "\n",
        "for year in range(2004,2010,1):\n",
        "    person_path = 'person_all_years/{0}_person.csv'.format(year)\n",
        "    df1 = pd.read_csv(person_path,encoding='latin-1')\n",
        "    df_person = pd.concat([df_person, df1], axis=0)\n",
        "\n",
        "df_person = df_person.reset_index(drop = True)\n",
        "\n",
        "# pedestrians\n",
        "df_ped_person = df_person[df_person['HARM_EV'] == 8]\n",
        "\n",
        "df_ped_person = df_ped_person[df_ped_person['DEATH_YR'].isin(range(2004, 2010))]\n",
        "\n",
        "df_ped_person_kansas = df_ped_person[df_ped_person['STATE'] == 20]\n",
        "df_ped_person_kansas['CATEGORY'] = pd.cut(df_ped_person_kansas['AGE'], \n",
        "                                        bins=[0, 16, 24, 34, 44, 54, 64, 99],\n",
        "                                        include_lowest=True, \n",
        "                                        labels=['<16', '16-24', '25-34', '35-44', '45-54', '55-64', 'more than 65 years'])\n",
        "\n",
        "group_age_year = df_ped_person_kansas.groupby([\"DEATH_YR\", \"CATEGORY\"])[\"CATEGORY\"].count()\n",
        "\n",
        "age_category_count = group_age_year.to_frame().rename(columns = {'CATEGORY':'CAT_COUNT'}).reset_index()"
      ]
    },
    {
      "cell_type": "markdown",
      "metadata": {
        "id": "wtrtz_IqOf3s"
      },
      "source": [
        "Figure 4"
      ]
    },
    {
      "cell_type": "code",
      "execution_count": null,
      "metadata": {
        "id": "uLs0MQt7Of3s",
        "outputId": "45d58525-bbd9-4a17-ecd3-106697566ea1"
      },
      "outputs": [
        {
          "data": {
            "image/png": "[encoded data removed]",
            "text/plain": [
              "<Figure size 648x288 with 1 Axes>"
            ]
          },
          "metadata": {
            "needs_background": "light"
          },
          "output_type": "display_data"
        }
      ],
      "source": [
        "plypt.figure(figsize = (9, 4))\n",
        "plypt.title(\"Pedestrian fatalities in Kansas based on age\")\n",
        "sns.barplot(data = age_category_count, x = \"CATEGORY\", y = \"CAT_COUNT\", hue = \"DEATH_YR\")\n",
        "plypt.xlabel(\"Age Groups\")\n",
        "plypt.ylabel(\"Number of pedestrians killed\")\n",
        "plypt.legend(loc='center left', bbox_to_anchor=(1,0.5))\n",
        "plypt.show()"
      ]
    },
    {
      "cell_type": "code",
      "execution_count": null,
      "metadata": {
        "id": "BHnEX-UCOf3t"
      },
      "outputs": [],
      "source": [
        "# Comparison of fatal pedestrian crashes between Kansas and USA based on time of the day.\n",
        "# USA\n",
        "usa_time_df = df_ped_person[['HOUR']]\n",
        "usa_time_df[\"HOUR_CATEGORY\"] = pd.cut(usa_time_df['HOUR'], \n",
        "                                bins=[0, 6, 9, 15, 18, 21, 24],\n",
        "                                include_lowest=True, \n",
        "                                labels=['Midnight to 5:59 am',\n",
        "                                    '6 am to 8:59 am',\n",
        "                                    '9 am to 2:59 am',\n",
        "                                    '3 pm to 5:59 pm',\n",
        "                                    '6 pm to 8:59 pm',\n",
        "                                    '9 pm to 11:59 pm'])\n",
        "usa_group_time = usa_time_df['HOUR_CATEGORY'].value_counts(sort = False).to_frame()"
      ]
    },
    {
      "cell_type": "code",
      "execution_count": null,
      "metadata": {
        "id": "xFZxUGKhOf3t",
        "outputId": "4a85ed3d-34c3-49da-d723-65a74273bbba"
      },
      "outputs": [
        {
          "data": {
            "text/html": [
              "<div>\n",
              "<style scoped>\n",
              "    .dataframe tbody tr th:only-of-type {\n",
              "        vertical-align: middle;\n",
              "    }\n",
              "\n",
              "    .dataframe tbody tr th {\n",
              "        vertical-align: top;\n",
              "    }\n",
              "\n",
              "    .dataframe thead th {\n",
              "        text-align: right;\n",
              "    }\n",
              "</style>\n",
              "<table border=\"1\" class=\"dataframe\">\n",
              "  <thead>\n",
              "    <tr style=\"text-align: right;\">\n",
              "      <th></th>\n",
              "      <th>HOUR_CATEGORY</th>\n",
              "    </tr>\n",
              "  </thead>\n",
              "  <tbody>\n",
              "    <tr>\n",
              "      <th>Midnight to 5:59 am</th>\n",
              "      <td>29</td>\n",
              "    </tr>\n",
              "    <tr>\n",
              "      <th>6 am to 8:59 am</th>\n",
              "      <td>6</td>\n",
              "    </tr>\n",
              "    <tr>\n",
              "      <th>9 am to 2:59 am</th>\n",
              "      <td>16</td>\n",
              "    </tr>\n",
              "    <tr>\n",
              "      <th>3 pm to 5:59 pm</th>\n",
              "      <td>14</td>\n",
              "    </tr>\n",
              "    <tr>\n",
              "      <th>6 pm to 8:59 pm</th>\n",
              "      <td>24</td>\n",
              "    </tr>\n",
              "    <tr>\n",
              "      <th>9 pm to 11:59 pm</th>\n",
              "      <td>12</td>\n",
              "    </tr>\n",
              "  </tbody>\n",
              "</table>\n",
              "</div>"
            ],
            "text/plain": [
              "                     HOUR_CATEGORY\n",
              "Midnight to 5:59 am             29\n",
              "6 am to 8:59 am                  6\n",
              "9 am to 2:59 am                 16\n",
              "3 pm to 5:59 pm                 14\n",
              "6 pm to 8:59 pm                 24\n",
              "9 pm to 11:59 pm                12"
            ]
          },
          "execution_count": 13,
          "metadata": {},
          "output_type": "execute_result"
        }
      ],
      "source": [
        "# Kansas\n",
        "kansas_time_df = df_ped_person[['HOUR']][df_ped_person['STATE'] == 20]\n",
        "kansas_time_df[\"HOUR_CATEGORY\"] = pd.cut(kansas_time_df['HOUR'], \n",
        "                                        bins=[0, 6, 9, 15, 18, 21, 24],\n",
        "                                        include_lowest=True, labels=['Midnight to 5:59 am',\n",
        "                                        '6 am to 8:59 am',\n",
        "                                        '9 am to 2:59 am',\n",
        "                                        '3 pm to 5:59 pm',\n",
        "                                        '6 pm to 8:59 pm',\n",
        "                                        '9 pm to 11:59 pm'])\n",
        "kansas_group_time = kansas_time_df['HOUR_CATEGORY'].value_counts(sort = False).to_frame()\n",
        "kansas_group_time"
      ]
    },
    {
      "cell_type": "code",
      "execution_count": null,
      "metadata": {
        "id": "TeIFgUXMOf3t",
        "outputId": "18d4c9a7-33c6-470c-b660-951b62c6542b"
      },
      "outputs": [
        {
          "data": {
            "image/png": "[encoded data removed]",
            "text/plain": [
              "<Figure size 720x288 with 1 Axes>"
            ]
          },
          "metadata": {
            "needs_background": "light"
          },
          "output_type": "display_data"
        }
      ],
      "source": [
        "from turtle import color\n",
        "\n",
        "figure, ax = plypt.subplots(figsize = (10, 4))\n",
        "x_labels = usa_group_time.index.tolist() # X axis labels\n",
        "x = nump.arange(len(x_labels))\n",
        "y1 = (kansas_group_time['HOUR_CATEGORY']/kansas_group_time['HOUR_CATEGORY'].sum())*100\n",
        "y2 = (usa_group_time['HOUR_CATEGORY']/usa_group_time['HOUR_CATEGORY'].sum())*100\n",
        "\n",
        "plypt.xlabel(\"Time Group\"), plypt.ylabel(\"Percentage of fatalities\")\n",
        "plypt.title(\"Time distribution of pedestrian fatalities\")\n",
        "plypt.xticks(x, x_labels)\n",
        "\n",
        "ax.bar(x-0.2, y1, 0.4, label = 'Kansas', color='blue')\n",
        "ax.bar(x+0.2, y2, 0.4, label = 'USA', color='red')\n",
        "ax.yaxis.set_major_formatter(tick.PercentFormatter())\n",
        "ax.legend(loc='center left', bbox_to_anchor=(1,0.5))\n",
        "\n",
        "plypt.show()"
      ]
    },
    {
      "cell_type": "markdown",
      "metadata": {
        "id": "Vmumu5uyOf3t"
      },
      "source": [
        " Task: Take the data from Figure 4 and Figure 9 and combine them."
      ]
    },
    {
      "cell_type": "code",
      "execution_count": null,
      "metadata": {
        "id": "Jaot0gxwOf3u",
        "outputId": "de01fe1d-4ccb-4f57-ac77-0d0231be902b"
      },
      "outputs": [
        {
          "data": {
            "image/png": "[encoded data removed]",
            "text/plain": [
              "<Figure size 648x288 with 1 Axes>"
            ]
          },
          "metadata": {
            "needs_background": "light"
          },
          "output_type": "display_data"
        }
      ],
      "source": [
        "age_time = df_ped_person[['AGE', 'HOUR']]\n",
        "\n",
        "\n",
        "age_time[\"HOUR_C\"] = pd.cut(age_time['HOUR'], \n",
        "                            bins=[0, 6, 9, 15, 18, 21, 24],\n",
        "                            include_lowest=True,\n",
        "                            labels=['Midnight to 5:59 am',\n",
        "                                '6 am to 8:59 am',\n",
        "                                '9 am to 2:59 am',\n",
        "                                '3 pm to 5:59 pm',\n",
        "                                '6 pm to 8:59 pm',\n",
        "                                '9 pm to 11:59 pm'])\n",
        "\n",
        "age_time['AGE_C'] = pd.cut(age_time['AGE'], \n",
        "                            bins=[0, 16, 24, 34, 44, 54, 64, 99],\n",
        "                            include_lowest=True, \n",
        "                            labels=['<16', '16-24', '25-34', '35-44', '45-54', '55-64', 'more than 65 years'])\n",
        "                            \n",
        "counts_agetime = age_time.groupby(['AGE_C', 'HOUR_C']).count().reset_index()\n",
        "\n",
        "plypt.figure(figsize = (9, 4))\n",
        "plypt.xlabel(\"Time Group\")\n",
        "plypt.ylabel(\"Number of pedestrians involved\")\n",
        "plypt.title(\"Pedestrian casualities grouped by age and time\")\n",
        "sns.barplot(data = counts_agetime, x = \"HOUR_C\", y = \"AGE\", hue = \"AGE_C\")\n",
        "plypt.legend(loc='center left', bbox_to_anchor=(1,0.5))\n",
        "plypt.show()"
      ]
    },
    {
      "cell_type": "markdown",
      "metadata": {
        "id": "yY-lsmgMOf3u"
      },
      "source": [
        " Perform cluster analysis on NHTSA FARS data.\n",
        "\n",
        " Task: Reshape the US dataset from HW1"
      ]
    },
    {
      "cell_type": "code",
      "execution_count": null,
      "metadata": {
        "id": "ufcYFFdeOf3u"
      },
      "outputs": [],
      "source": [
        "curr_dir = os.getcwd()\n",
        "for year in range(1975, 2021, 5):\n",
        "    res = requests.get('https://static.nhtsa.gov/nhtsa/downloads/FARS/{0}/National/FARS{0}NationalCSV.zip'.format(year))\n",
        "    zip = zf.ZipFile(io.BytesIO(res.content))\n",
        "    path = os.path.join(curr_dir,'data1',str(year))\n",
        "    zip.extractall(path)\n",
        "\n",
        "dir = \"accident_all_years1\"\n",
        "path = os.path.join(curr_dir, dir)\n",
        "os.mkdir(path)\n",
        "\n",
        "for year in range(1975,2021,5):\n",
        "    apath = os.path.join(curr_dir,'data1',str(year),'ACCIDENT.csv')\n",
        "    mpath = os.path.join(curr_dir,'accident_all_years1',str(year)+'_accident.csv')\n",
        "    shutil.copy(apath, mpath)"
      ]
    },
    {
      "cell_type": "code",
      "execution_count": null,
      "metadata": {
        "id": "3EN9dd_wOf3u"
      },
      "outputs": [],
      "source": [
        "# you are using data from the 1975-2020 that you found in HW1\n",
        "df = pd.DataFrame()\n",
        "\n",
        "for year in range(1975,2021,5):\n",
        "    apath = 'accident_all_years1/{0}_accident.csv'.format(year)\n",
        "    df1 = pd.read_csv(apath,encoding='latin-1')\n",
        "    df = pd.concat([df, df1], axis=0)\n",
        "\n",
        "df_ped = df[(df['HARM_EV'] == 8)]\n",
        "\n",
        "# restrict to numeric features, eliminate year as a feature\n",
        "df_ped = df_ped._get_numeric_data()\n",
        "df_ped = df_ped.dropna(axis = 1)\n",
        "\n",
        "# you are including all states data except Kansas\n",
        "df_kansas = df_ped[(df_ped['STATE'] == 20)]\n",
        "df_US = df_ped[(df_ped['STATE']) != 20]\n",
        "state = df_US[['STATE']]\n"
      ]
    },
    {
      "cell_type": "code",
      "execution_count": null,
      "metadata": {
        "id": "J92j6SIbOf3v"
      },
      "outputs": [],
      "source": [
        "# scale the data using scikit-learn Standard Scaler\n",
        "state = df_US[['STATE']]\n",
        "df_US = df_US.drop(columns = ['HARM_EV', 'STATE', 'COUNTY'])\n",
        "kansas_df = df_kansas.drop(columns = ['HARM_EV', 'STATE', 'COUNTY'])\n",
        "\n",
        "scaler = StandardScaler()\n",
        "scaler.fit(df_US)\n",
        "US_scaled = scaler.transform(df_US)"
      ]
    },
    {
      "cell_type": "markdown",
      "metadata": {
        "id": "SziqdPSEOf3v"
      },
      "source": [
        "Task: Perform ad hoc K-Means clustering"
      ]
    },
    {
      "cell_type": "code",
      "execution_count": null,
      "metadata": {
        "id": "EODvCWiIOf3v",
        "outputId": "54efbd69-dfc3-4bc1-933b-7f1c96d2c242"
      },
      "outputs": [
        {
          "name": "stdout",
          "output_type": "stream",
          "text": [
            "Cluster 5 Centroids\n",
            "[[-1.78503012e-02 -7.32176650e-03  2.53595036e-02 -8.38087299e-03\n",
            "   9.72631179e-03  2.65401354e-02  5.40209221e-02 -5.09042457e-02\n",
            "  -1.33655684e-02 -1.25283453e-02 -4.07213793e-02 -1.82282317e-02\n",
            "  -1.07046951e+00 -1.02668102e+00 -1.04067716e+00 -9.70996191e-01\n",
            "  -1.16187067e-01  6.25723733e-03  6.92357831e-02  1.16853944e-01\n",
            "  -4.15684136e-02]\n",
            " [ 2.92739824e-02  8.02440526e-03  1.15904469e+00  1.64696356e-02\n",
            "   5.71438308e-02  1.46191231e-01 -4.15989297e-01 -4.55983032e-02\n",
            "  -1.33655684e-02  7.62723206e-02  1.26222178e-01  1.98308509e-01\n",
            "   8.18581023e-01  7.83683206e-01  8.90268156e-01  8.26527713e-01\n",
            "  -1.16187067e-01 -5.09774924e-02  3.90979527e-02 -1.43097118e-01\n",
            "  -9.80689867e-03]\n",
            " [-1.58878535e-03  7.52442882e-02 -2.64004998e-01  1.08309866e-02\n",
            "  -1.74786357e-02  1.79757245e-01  9.58602210e-01  2.83373191e+00\n",
            "  -1.33655684e-02  1.78326670e-01  8.86558980e-02  8.41030024e-02\n",
            "  -6.84119275e-03 -1.44081061e-02  6.96374086e-03 -1.99168609e-02\n",
            "   6.31276816e+00  1.27283161e-03  3.80269071e-01 -1.32535576e-01\n",
            "  -1.36997024e-01]\n",
            " [ 4.67931139e-01  1.80981603e-01 -8.62341036e-01  7.73065310e-01\n",
            "  -2.08300668e-01 -6.87858110e-01  2.92871423e-01  3.04765667e+00\n",
            "   7.48191152e+01  6.14325458e-01  2.80093230e+00  2.13822487e-01\n",
            "  -3.20371689e-01 -3.82404322e-01 -2.80355374e-01 -2.91274437e-01\n",
            "  -1.16187067e-01  1.27610598e-01  3.95588432e-01  2.79059357e-01\n",
            "   6.04526509e-01]\n",
            " [ 3.03490266e-03 -1.88867104e-04 -8.57856467e-01 -1.51754516e-03\n",
            "  -5.35290229e-02 -1.51904293e-01  1.72452718e-01 -6.05367119e-02\n",
            "  -1.33655684e-02 -4.85749675e-02 -4.23193037e-02 -1.23504964e-01\n",
            "   8.70934951e-01  8.36820224e-01  7.77541972e-01  7.29989725e-01\n",
            "  -1.16599364e-01  2.81947598e-02 -1.44776380e-01 -4.87316115e-02\n",
            "   7.13587239e-02]]\n",
            "---------------------------------\n",
            "\n",
            "Cluster 10 Centroids\n",
            "[[-1.14330610e-02 -8.02294844e-03  1.15687790e+00 -2.17104124e-02\n",
            "   2.18551392e-02 -3.62170781e-02 -3.15973660e-01 -4.05964112e-02\n",
            "  -1.33655684e-02 -4.66414252e-02  2.28136625e-02 -4.38581353e-02\n",
            "  -1.05853185e+00 -9.93356614e-01 -1.00034710e+00 -9.09008838e-01\n",
            "  -1.16187067e-01 -1.65070968e-02  2.18836837e-01  4.53700135e-02\n",
            "   3.24088456e-02]\n",
            " [-2.55244680e-02 -2.66649867e-03 -8.55220011e-01 -3.79597068e-02\n",
            "  -3.80285898e-02 -1.56693059e-01  2.16896160e-01  5.14841944e-03\n",
            "  -1.33655684e-02 -4.24609020e-02 -1.30611653e-01 -1.25622733e-01\n",
            "  -1.03141033e+00 -1.01594143e+00 -1.05219230e+00 -1.02024173e+00\n",
            "  -1.16187067e-01  2.17304850e-02 -5.87356568e-02  1.76428625e-01\n",
            "  -1.05729472e-01]\n",
            " [ 2.83350345e-02  2.95839887e-02 -6.84642860e-01  7.04075629e-01\n",
            "   1.18282725e-01 -2.67947784e-01  6.81986653e-02 -5.06648255e-02\n",
            "  -1.33655684e-02 -5.34321708e-02  1.33481475e+00 -1.10380216e-01\n",
            "   8.44303479e-01  8.11709412e-01  8.15185758e-01  7.60304094e-01\n",
            "  -1.16187067e-01  6.06814197e-02 -9.41922101e-02 -1.44810271e-01\n",
            "   2.70659122e-01]\n",
            " [ 3.01642636e-02  1.43222834e-02  1.15950928e+00 -6.44779175e-02\n",
            "   3.03276812e-02 -1.04470890e-01 -5.17254523e-01 -5.53730213e-02\n",
            "  -1.33655684e-02 -5.00898236e-02 -4.91268060e-03 -4.30520092e-02\n",
            "   8.42176248e-01  8.09726278e-01  9.02153848e-01  8.40121179e-01\n",
            "  -1.16187067e-01 -5.74626336e-02  4.64399762e-02 -1.36605269e-01\n",
            "  -1.21719798e-02]\n",
            " [ 7.26859538e-02 -3.23427449e-02  1.16656396e+00  3.68914160e-01\n",
            "   2.38507665e-01  1.04413641e-01 -8.38218979e-01  2.71051086e-01\n",
            "  -1.33655684e-02 -4.89480446e-02  1.03355178e+00  1.06656626e+01\n",
            "   1.15481301e-01  1.52522712e-01  1.82648471e-01  1.73565558e-01\n",
            "  -1.31341582e-02 -1.01586543e-01 -2.33332379e-01  1.50710459e-01\n",
            "  -5.02507916e-02]\n",
            " [ 6.70186302e-02  7.98034309e-02 -2.15398828e-01 -3.41980287e-02\n",
            "  -4.30150168e-02  1.98348322e-01  1.06600724e+00  1.43880604e-02\n",
            "  -1.33655684e-02  1.95264531e-02  3.47255332e-02 -1.02040659e-01\n",
            "  -5.70943903e-02 -4.70784594e-02 -4.92585940e-02 -5.61962052e-02\n",
            "   7.74736797e+00 -1.71461871e-02  4.88629329e-01  4.35863093e-03\n",
            "  -1.32521844e-01]\n",
            " [ 9.68399927e-02 -1.08830506e-01  1.16099439e+00  1.51018440e+00\n",
            "   6.43171573e-01 -2.19503412e-02 -6.67304013e-01  1.46689247e+00\n",
            "  -1.33655684e-02  2.11668722e+01  1.86553372e+00  3.50768429e+00\n",
            "   2.49700849e-01  2.06388056e-01  3.22514661e-01  3.01848988e-01\n",
            "   5.03494974e-03 -1.63403921e-01 -2.39483450e-02 -3.16008986e-01\n",
            "  -2.19995240e-01]\n",
            " [-7.23447179e-03 -1.57289444e-02 -8.58094161e-01 -2.19261000e-01\n",
            "  -8.04450712e-02 -2.82652941e-01  9.69114055e-02  8.05916962e-02\n",
            "  -1.33655684e-02 -4.40552831e-02 -5.17708903e-01 -1.25280622e-01\n",
            "   8.74022983e-01  8.40147733e-01  7.99109681e-01  7.61280989e-01\n",
            "  -1.16786392e-01  1.32819837e-02 -1.70592706e-01 -3.23154805e-02\n",
            "   5.80174170e-04]\n",
            " [-1.25244685e-02 -1.69665470e-02  2.27594321e-01  6.72732784e-02\n",
            "   7.82493609e-02  3.49885889e+00  1.69812825e+00 -4.31399894e-02\n",
            "  -1.33655684e-02 -5.93791080e-02  1.18097036e-01 -7.00838630e-02\n",
            "   1.92511159e-01  2.11235144e-01  2.12453751e-01  2.43106374e-01\n",
            "  -1.03814344e-01  4.49546701e-02  1.32340915e-01 -1.00057989e-01\n",
            "  -1.11698329e-02]\n",
            " [ 4.67931139e-01  1.80981603e-01 -8.62341036e-01  7.73065310e-01\n",
            "  -2.08300668e-01 -6.87858110e-01  2.92871423e-01  3.04765667e+00\n",
            "   7.48191152e+01  6.14325458e-01  2.80093230e+00  2.13822487e-01\n",
            "  -3.20371689e-01 -3.82404322e-01 -2.80355374e-01 -2.91274437e-01\n",
            "  -1.16187067e-01  1.27610598e-01  3.95588432e-01  2.79059357e-01\n",
            "   6.04526509e-01]]\n",
            "---------------------------------\n",
            "\n",
            "Cluster 12 Centroids\n",
            "[[ 9.11763953e-03 -1.74994956e-02  8.28181045e-02  8.35743821e-02\n",
            "   6.63238685e-02  3.69378637e+00  2.12599090e+00 -4.07009720e-02\n",
            "  -1.33655684e-02 -5.77757501e-02  1.12230442e-01 -7.76259513e-02\n",
            "   9.29795513e-02  1.14325783e-01  1.06961428e-01  1.50533050e-01\n",
            "  -1.00582957e-01  6.01819147e-02  5.56137916e-02 -9.58465049e-02\n",
            "  -6.82313683e-02]\n",
            " [ 7.78213632e-03  9.91861153e-03 -8.19913150e-01  2.22120612e-01\n",
            "   7.18559424e-01 -1.62998201e-01  2.34061752e-01 -6.06030742e-02\n",
            "  -1.33655684e-02 -4.64599675e-02 -1.02578647e-01 -1.24909881e-01\n",
            "  -6.13721745e-01 -3.68415495e-01 -1.00781750e+00 -8.47698048e-01\n",
            "  -1.17294410e-01  4.22127831e-02 -1.77047355e-01  1.82192798e-01\n",
            "  -3.83677743e-01]\n",
            " [ 7.26859538e-02 -3.23427449e-02  1.16656396e+00  3.68914160e-01\n",
            "   2.38507665e-01  1.04413641e-01 -8.38218979e-01  2.71051086e-01\n",
            "  -1.33655684e-02 -4.89480446e-02  1.03355178e+00  1.06656626e+01\n",
            "   1.15481301e-01  1.52522712e-01  1.82648471e-01  1.73565558e-01\n",
            "  -1.31341582e-02 -1.01586543e-01 -2.33332379e-01  1.50710459e-01\n",
            "  -5.02507916e-02]\n",
            " [-3.32087422e-02 -2.34328559e-03  2.63543995e-01 -7.97497423e-02\n",
            "  -7.89913689e-03 -2.76374554e-02  1.41339839e-01 -1.11723032e-02\n",
            "  -1.33655684e-02 -3.00599142e-02  2.13504316e-01 -1.14740167e-01\n",
            "   7.26267472e-01  7.10027733e-01  7.47157013e-01  7.19833544e-01\n",
            "  -1.16187067e-01  4.30076407e-02  2.48191402e+00 -1.65092561e-01\n",
            "  -4.62263814e-02]\n",
            " [ 4.67931139e-01  1.80981603e-01 -8.62341036e-01  7.73065310e-01\n",
            "  -2.08300668e-01 -6.87858110e-01  2.92871423e-01  3.04765667e+00\n",
            "   7.48191152e+01  6.14325458e-01  2.80093230e+00  2.13822487e-01\n",
            "  -3.20371689e-01 -3.82404322e-01 -2.80355374e-01 -2.91274437e-01\n",
            "  -1.16187067e-01  1.27610598e-01  3.95588432e-01  2.79059357e-01\n",
            "   6.04526509e-01]\n",
            " [ 3.62481133e-03 -1.30640841e-03 -8.60089277e-01  3.97063566e-03\n",
            "  -4.87565229e-02 -3.01546423e-01  6.91158169e-02  5.37485437e-02\n",
            "  -1.33655684e-02 -5.03641641e-02 -6.01699172e-02 -1.22104643e-01\n",
            "   8.81088287e-01  8.44494330e-01  9.33426165e-01  8.71564201e-01\n",
            "  -1.16187067e-01  1.44297780e-02 -3.93488511e-01 -6.32168281e-02\n",
            "   1.09798551e-01]\n",
            " [-3.09793188e-03  8.70589382e-03  1.60239442e-01 -1.27469019e-02\n",
            "  -1.35446837e-03 -5.47763335e-02 -1.01338715e-01 -8.19675454e-02\n",
            "  -1.33655684e-02 -4.85393821e-02  2.84023649e-03 -8.36103866e-02\n",
            "  -1.06505811e+00 -1.02810452e+00 -9.45053303e-01 -8.53858955e-01\n",
            "  -1.16187067e-01 -2.23181396e-02 -2.92485552e-02  5.11435190e-01\n",
            "   2.17978583e+00]\n",
            " [ 9.68399927e-02 -1.08830506e-01  1.16099439e+00  1.51018440e+00\n",
            "   6.43171573e-01 -2.19503412e-02 -6.67304013e-01  1.46689247e+00\n",
            "  -1.33655684e-02  2.11668722e+01  1.86553372e+00  3.50768429e+00\n",
            "   2.49700849e-01  2.06388056e-01  3.22514661e-01  3.01848988e-01\n",
            "   5.03494974e-03 -1.63403921e-01 -2.39483450e-02 -3.16008986e-01\n",
            "  -2.19995240e-01]\n",
            " [-5.51704599e-04 -1.30746994e-02  1.15701344e+00 -5.48047913e-02\n",
            "   9.99413464e-03 -2.44560712e-02 -3.59633154e-01 -3.60661986e-02\n",
            "  -1.33655684e-02 -4.80718880e-02  1.85191717e-02 -4.22188286e-02\n",
            "  -1.06520840e+00 -9.95410380e-01 -1.01571607e+00 -9.29791560e-01\n",
            "  -1.16187067e-01 -1.31468813e-02  1.35457671e-01 -2.26999379e-02\n",
            "  -3.45961241e-01]\n",
            " [ 6.70186302e-02  7.98034309e-02 -2.15398828e-01 -3.41980287e-02\n",
            "  -4.30150168e-02  1.98348322e-01  1.06600724e+00  1.43880604e-02\n",
            "  -1.33655684e-02  1.95264531e-02  3.47255332e-02 -1.02040659e-01\n",
            "  -5.70943903e-02 -4.70784594e-02 -4.92585940e-02 -5.61962052e-02\n",
            "   7.74736797e+00 -1.71461871e-02  4.88629329e-01  4.35863093e-03\n",
            "  -1.32521844e-01]\n",
            " [-6.55475663e-02 -1.48187233e-02 -8.45908375e-01 -1.80493249e-01\n",
            "  -7.35247655e-01 -1.57007430e-01  2.29549335e-01  7.71579194e-02\n",
            "  -1.33655684e-02 -3.63994538e-02 -1.43219228e-01 -1.24219391e-01\n",
            "  -1.13895891e+00 -1.35709896e+00 -1.08632262e+00 -1.16630957e+00\n",
            "  -1.16187067e-01  1.11984191e-02 -1.61471058e-02  5.24418075e-02\n",
            "  -3.91655217e-01]\n",
            " [ 3.53736000e-02  1.35289570e-02  1.16066958e+00 -1.18083870e-03\n",
            "   4.87614189e-02 -2.41611524e-02 -5.73873826e-01 -5.33353381e-02\n",
            "  -1.33655684e-02 -5.21360883e-02  5.87592972e-02 -3.11553720e-02\n",
            "   8.48080298e-01  8.11901545e-01  9.05457059e-01  8.42297468e-01\n",
            "  -1.16187067e-01 -5.82483906e-02 -3.93488511e-01 -1.34076245e-01\n",
            "  -6.29642201e-03]]\n",
            "---------------------------------\n",
            "\n"
          ]
        }
      ],
      "source": [
        "K = [5, 10, 12]\n",
        "sum_squares = []\n",
        "for k in K:\n",
        "    k_mean_clustering = KMeans(n_clusters = k, init='k-means++', max_iter = 200, n_init = 10, random_state = 0)\n",
        "    k_mean_clustering.fit(US_scaled)\n",
        "    sum_squares.append(k_mean_clustering.inertia_)\n",
        "    print(\"Cluster {0} Centroids\".format(k))\n",
        "    print(k_mean_clustering.cluster_centers_)\n",
        "    print(\"---------------------------------\\n\")"
      ]
    },
    {
      "cell_type": "markdown",
      "metadata": {
        "id": "a5q7FLFJOf3v"
      },
      "source": [
        "Task: Perform elbow analysis to find optimal cluster size"
      ]
    },
    {
      "cell_type": "code",
      "execution_count": null,
      "metadata": {
        "id": "He6dALHBOf3w"
      },
      "outputs": [],
      "source": [
        "max_clusters = 15\n",
        "css = [] \n",
        "\n",
        "for k in range(1,max_clusters):\n",
        "    kmeans = KMeans(n_clusters = k, init = 'k-means++', max_iter = 200, n_init = 10, random_state = 0)\n",
        "    kmeans.fit(US_scaled) # where d is the dataset you have standardized in the first part of this\n",
        "    css.append(kmeans.inertia_)"
      ]
    },
    {
      "cell_type": "code",
      "execution_count": null,
      "metadata": {
        "id": "0OFygI0dOf3w",
        "outputId": "0e6bd730-899e-4ebb-ff44-b12f1c8ca370"
      },
      "outputs": [
        {
          "data": {
            "image/png": "[encoded data removed]",
            "text/plain": [
              "<Figure size 432x288 with 1 Axes>"
            ]
          },
          "metadata": {
            "needs_background": "light"
          },
          "output_type": "display_data"
        }
      ],
      "source": [
        "plypt.plot(range(1,max_clusters), css)\n",
        "plypt.xlabel(\"K\"), plypt.ylabel(\"Sum of squares\")\n",
        "plypt.title(\"Elbow Plot\")\n",
        "plypt.show()"
      ]
    },
    {
      "cell_type": "code",
      "execution_count": null,
      "metadata": {
        "id": "YGYeF-aSOf3w"
      },
      "outputs": [],
      "source": [
        "kansas_labels = kmeans.predict(scaler.transform(df_kansas))\n",
        "mode_label = st.mode(kansas_labels)[0][0]\n",
        "print(f\"Kansas would belong to the cluster: {mode_label}\")\n",
        "\n",
        "state['Labels'] = kmeans.predict(US_scaled)\n",
        "state_count = state.groupby(['STATE','Labels'])['Labels'].count().sort_values().groupby(level=0).tail(1).to_frame()\n",
        "state_count = state_count.rename(columns = {\"Labels\":\"Labels_Count\"}).reset_index()\n",
        "\n",
        "\n",
        "kansas_like = state_count['STATE'][state_count['Labels'] == mode_label]\n",
        "print('\\n-------------------------------------------')\n",
        "print(\"The states which are most like Kansas are:\")\n",
        "print('-------------------------------------------')\n",
        "print(kansas_like.to_string(index = False))\n",
        "print('-------------------------------------------')"
      ]
    },
    {
      "cell_type": "code",
      "execution_count": null,
      "metadata": {
        "id": "AA3YTXHtOf3w"
      },
      "outputs": [],
      "source": [
        "def plot_dendrogram(model, **kwargs):\n",
        "    cts = nump.zeros(model.children_.shape[0])\n",
        "    n_samples = len(model.labels_)\n",
        "    for i, merge in enumerate(model.children_):\n",
        "        c_count = 0\n",
        "        for child_idx in merge:\n",
        "            if child_idx < n_samples:\n",
        "                c_count += 1 # leaf node\n",
        "            else:\n",
        "                c_count += cts[child_idx - n_samples]\n",
        "        cts[i] = c_count\n",
        "\n",
        "    linkage_matrix = nump.column_stack([model.children_, model.distances_, cts]).astype(float)\n",
        "    # Plot the corresponding dendrogram\n",
        "    dendrogram(linkage_matrix, **kwargs)\n",
        "\n",
        "\n",
        "aggmodel = AgglomerativeClustering(distance_threshold=None, n_clusters=10, compute_distances = True)\n",
        "aggmodel = aggmodel.fit(US_scaled)"
      ]
    },
    {
      "cell_type": "code",
      "execution_count": null,
      "metadata": {
        "id": "Y7zr5lUBOf3w"
      },
      "outputs": [],
      "source": [
        "plypt.figure(figsize = (14, 6))\n",
        "plypt.title(\"Dendrogram\")\n",
        "plot_dendrogram(aggmodel, truncate_mode=\"level\", p=3)\n",
        "plypt.xlabel(\"Number of points in node.\")\n",
        "plypt.show()"
      ]
    }
  ],
  "metadata": {
    "kernelspec": {
      "display_name": "Python 3.9.6 64-bit",
      "language": "python",
      "name": "python3"
    },
    "language_info": {
      "codemirror_mode": {
        "name": "ipython",
        "version": 3
      },
      "file_extension": ".py",
      "mimetype": "text/x-python",
      "name": "python",
      "nbconvert_exporter": "python",
      "pygments_lexer": "ipython3",
      "version": "3.9.6"
    },
    "orig_nbformat": 4,
    "vscode": {
      "interpreter": {
        "hash": "c5a9b1db969bd97e3f32583f3a99082870c34f33146338eecd0964e32ada8b48"
      }
    },
    "colab": {
      "provenance": [],
      "collapsed_sections": []
    }
  },
  "nbformat": 4,
  "nbformat_minor": 0
}